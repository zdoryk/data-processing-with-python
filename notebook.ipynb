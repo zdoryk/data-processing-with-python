{
 "cells": [
  {
   "cell_type": "markdown",
   "source": [
    "# Level 4 Python\n",
    "--------------|-------|\n",
    "|Danylo Zdoryk| 233305|\n",
    "|Dmytro Shelest| 226453|\n",
    "|Gracjan Grala| 210192|\n",
    "|Jan Kisielewicz| 210221|\n"
   ],
   "metadata": {
    "collapsed": false,
    "pycharm": {
     "name": "#%% md\n"
    }
   }
  },
  {
   "cell_type": "markdown",
   "source": [
    "## Importing libraries"
   ],
   "metadata": {
    "collapsed": false,
    "pycharm": {
     "name": "#%% md\n"
    }
   }
  },
  {
   "cell_type": "code",
   "execution_count": 19,
   "outputs": [],
   "source": [
    "import pandas as pd\n",
    "import numpy as np\n",
    "\n",
    "import matplotlib.pyplot as plt\n",
    "import seaborn as sns"
   ],
   "metadata": {
    "collapsed": false,
    "pycharm": {
     "name": "#%%\n"
    }
   }
  },
  {
   "cell_type": "markdown",
   "source": [],
   "metadata": {
    "collapsed": false,
    "pycharm": {
     "name": "#%% md\n"
    }
   }
  },
  {
   "cell_type": "code",
   "execution_count": 8,
   "outputs": [
    {
     "name": "stdout",
     "output_type": "stream",
     "text": [
      "<class 'pandas.core.frame.DataFrame'>\n",
      "RangeIndex: 271116 entries, 0 to 271115\n",
      "Data columns (total 15 columns):\n",
      " #   Column  Non-Null Count   Dtype  \n",
      "---  ------  --------------   -----  \n",
      " 0   ID      271116 non-null  int64  \n",
      " 1   Name    271116 non-null  object \n",
      " 2   Sex     271116 non-null  object \n",
      " 3   Age     261642 non-null  float64\n",
      " 4   Height  210945 non-null  float64\n",
      " 5   Weight  208241 non-null  float64\n",
      " 6   Team    271116 non-null  object \n",
      " 7   NOC     271116 non-null  object \n",
      " 8   Games   271116 non-null  object \n",
      " 9   Year    271116 non-null  int64  \n",
      " 10  Season  271116 non-null  object \n",
      " 11  City    271116 non-null  object \n",
      " 12  Sport   271116 non-null  object \n",
      " 13  Event   271116 non-null  object \n",
      " 14  Medal   39783 non-null   object \n",
      "dtypes: float64(3), int64(2), object(10)\n",
      "memory usage: 31.0+ MB\n"
     ]
    }
   ],
   "source": [
    "df = pd.read_csv(\"D:\\Projects\\ppdzd\\\\athlete_events.csv\")\n",
    "# Showing columns info\n",
    "df.info()"
   ],
   "metadata": {
    "collapsed": false,
    "pycharm": {
     "name": "#%%\n"
    }
   }
  },
  {
   "cell_type": "markdown",
   "source": [
    "## Exercise 1\n",
    "### 1.1 Prepare a summary of the total number of competitors at the Summer and Winter Olympics in the following years."
   ],
   "metadata": {
    "collapsed": false,
    "pycharm": {
     "name": "#%% md\n"
    }
   }
  },
  {
   "cell_type": "code",
   "execution_count": 26,
   "outputs": [
    {
     "data": {
      "text/plain": "    Year  Amount\n0   1896     380\n1   1900    1936\n2   1904    1301\n3   1906    1733\n4   1908    3101\n5   1912    4040\n6   1920    4292\n7   1924    5693\n8   1928    5574\n9   1932    3321\n10  1936    7401\n11  1948    7480\n12  1952    9358\n13  1956    6434\n14  1960    9235\n15  1964    9480\n16  1968   10479\n17  1972   11959\n18  1976   10502\n19  1980    8937\n20  1984   11588\n21  1988   14676\n22  1992   16413\n23  1994    3160\n24  1996   13780\n25  1998    3605\n26  2000   13821\n27  2002    4109\n28  2004   13443\n29  2006    4382\n30  2008   13602\n31  2010    4402\n32  2012   12920\n33  2014    4891\n34  2016   13688",
      "text/html": "<div>\n<style scoped>\n    .dataframe tbody tr th:only-of-type {\n        vertical-align: middle;\n    }\n\n    .dataframe tbody tr th {\n        vertical-align: top;\n    }\n\n    .dataframe thead th {\n        text-align: right;\n    }\n</style>\n<table border=\"1\" class=\"dataframe\">\n  <thead>\n    <tr style=\"text-align: right;\">\n      <th></th>\n      <th>Year</th>\n      <th>Amount</th>\n    </tr>\n  </thead>\n  <tbody>\n    <tr>\n      <th>0</th>\n      <td>1896</td>\n      <td>380</td>\n    </tr>\n    <tr>\n      <th>1</th>\n      <td>1900</td>\n      <td>1936</td>\n    </tr>\n    <tr>\n      <th>2</th>\n      <td>1904</td>\n      <td>1301</td>\n    </tr>\n    <tr>\n      <th>3</th>\n      <td>1906</td>\n      <td>1733</td>\n    </tr>\n    <tr>\n      <th>4</th>\n      <td>1908</td>\n      <td>3101</td>\n    </tr>\n    <tr>\n      <th>5</th>\n      <td>1912</td>\n      <td>4040</td>\n    </tr>\n    <tr>\n      <th>6</th>\n      <td>1920</td>\n      <td>4292</td>\n    </tr>\n    <tr>\n      <th>7</th>\n      <td>1924</td>\n      <td>5693</td>\n    </tr>\n    <tr>\n      <th>8</th>\n      <td>1928</td>\n      <td>5574</td>\n    </tr>\n    <tr>\n      <th>9</th>\n      <td>1932</td>\n      <td>3321</td>\n    </tr>\n    <tr>\n      <th>10</th>\n      <td>1936</td>\n      <td>7401</td>\n    </tr>\n    <tr>\n      <th>11</th>\n      <td>1948</td>\n      <td>7480</td>\n    </tr>\n    <tr>\n      <th>12</th>\n      <td>1952</td>\n      <td>9358</td>\n    </tr>\n    <tr>\n      <th>13</th>\n      <td>1956</td>\n      <td>6434</td>\n    </tr>\n    <tr>\n      <th>14</th>\n      <td>1960</td>\n      <td>9235</td>\n    </tr>\n    <tr>\n      <th>15</th>\n      <td>1964</td>\n      <td>9480</td>\n    </tr>\n    <tr>\n      <th>16</th>\n      <td>1968</td>\n      <td>10479</td>\n    </tr>\n    <tr>\n      <th>17</th>\n      <td>1972</td>\n      <td>11959</td>\n    </tr>\n    <tr>\n      <th>18</th>\n      <td>1976</td>\n      <td>10502</td>\n    </tr>\n    <tr>\n      <th>19</th>\n      <td>1980</td>\n      <td>8937</td>\n    </tr>\n    <tr>\n      <th>20</th>\n      <td>1984</td>\n      <td>11588</td>\n    </tr>\n    <tr>\n      <th>21</th>\n      <td>1988</td>\n      <td>14676</td>\n    </tr>\n    <tr>\n      <th>22</th>\n      <td>1992</td>\n      <td>16413</td>\n    </tr>\n    <tr>\n      <th>23</th>\n      <td>1994</td>\n      <td>3160</td>\n    </tr>\n    <tr>\n      <th>24</th>\n      <td>1996</td>\n      <td>13780</td>\n    </tr>\n    <tr>\n      <th>25</th>\n      <td>1998</td>\n      <td>3605</td>\n    </tr>\n    <tr>\n      <th>26</th>\n      <td>2000</td>\n      <td>13821</td>\n    </tr>\n    <tr>\n      <th>27</th>\n      <td>2002</td>\n      <td>4109</td>\n    </tr>\n    <tr>\n      <th>28</th>\n      <td>2004</td>\n      <td>13443</td>\n    </tr>\n    <tr>\n      <th>29</th>\n      <td>2006</td>\n      <td>4382</td>\n    </tr>\n    <tr>\n      <th>30</th>\n      <td>2008</td>\n      <td>13602</td>\n    </tr>\n    <tr>\n      <th>31</th>\n      <td>2010</td>\n      <td>4402</td>\n    </tr>\n    <tr>\n      <th>32</th>\n      <td>2012</td>\n      <td>12920</td>\n    </tr>\n    <tr>\n      <th>33</th>\n      <td>2014</td>\n      <td>4891</td>\n    </tr>\n    <tr>\n      <th>34</th>\n      <td>2016</td>\n      <td>13688</td>\n    </tr>\n  </tbody>\n</table>\n</div>"
     },
     "execution_count": 26,
     "metadata": {},
     "output_type": "execute_result"
    }
   ],
   "source": [
    "participants = df[['Year', 'ID']].groupby('Year').count().reset_index().rename(columns={\"ID\":\"Amount\"})\n",
    "participants"
   ],
   "metadata": {
    "collapsed": false,
    "pycharm": {
     "name": "#%%\n"
    }
   }
  },
  {
   "cell_type": "code",
   "execution_count": null,
   "outputs": [],
   "source": [],
   "metadata": {
    "collapsed": false,
    "pycharm": {
     "name": "#%%\n"
    }
   }
  }
 ],
 "metadata": {
  "kernelspec": {
   "display_name": "Python 3",
   "language": "python",
   "name": "python3"
  },
  "language_info": {
   "codemirror_mode": {
    "name": "ipython",
    "version": 2
   },
   "file_extension": ".py",
   "mimetype": "text/x-python",
   "name": "python",
   "nbconvert_exporter": "python",
   "pygments_lexer": "ipython2",
   "version": "2.7.6"
  }
 },
 "nbformat": 4,
 "nbformat_minor": 0
}