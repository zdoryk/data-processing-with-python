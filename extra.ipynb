{
 "cells": [
  {
   "cell_type": "markdown",
   "source": [
    "# Level 4 Python (Extra)\n",
    "--------------|-------|\n",
    "|Danylo Zdoryk| 233305|\n",
    "|Dmytro Shelest| 226453|\n",
    "|Gracjan Grala| 210192|\n",
    "|Jan Kisielewicz| 210221|"
   ],
   "metadata": {
    "collapsed": false,
    "pycharm": {
     "name": "#%% md\n"
    }
   }
  },
  {
   "cell_type": "markdown",
   "source": [
    "---\n",
    "## Importing libraries"
   ],
   "metadata": {
    "collapsed": false,
    "pycharm": {
     "name": "#%% md\n"
    }
   }
  },
  {
   "cell_type": "code",
   "execution_count": 208,
   "outputs": [],
   "source": [
    "import pandas as pd\n",
    "import numpy as np\n",
    "\n",
    "import matplotlib.pyplot as plt\n",
    "import seaborn as sns"
   ],
   "metadata": {
    "collapsed": false,
    "pycharm": {
     "name": "#%%\n"
    }
   }
  },
  {
   "cell_type": "markdown",
   "source": [
    "---\n",
    "# Reading data and creating data frame using pandas"
   ],
   "metadata": {
    "collapsed": false,
    "pycharm": {
     "name": "#%% md\n"
    }
   }
  },
  {
   "cell_type": "code",
   "execution_count": 209,
   "outputs": [
    {
     "data": {
      "text/plain": "{'February': 'data_for_extra_exercise\\\\Sales_February_2019.csv',\n 'March': 'data_for_extra_exercise\\\\Sales_March_2019.csv',\n 'April': 'data_for_extra_exercise\\\\Sales_April_2019.csv',\n 'May': 'data_for_extra_exercise\\\\Sales_May_2019.csv',\n 'June': 'data_for_extra_exercise\\\\Sales_June_2019.csv',\n 'July': 'data_for_extra_exercise\\\\Sales_July_2019.csv',\n 'August': 'data_for_extra_exercise\\\\Sales_August_2019.csv',\n 'September': 'data_for_extra_exercise\\\\Sales_September_2019.csv',\n 'October': 'data_for_extra_exercise\\\\Sales_October_2019.csv',\n 'November': 'data_for_extra_exercise\\\\Sales_November_2019.csv',\n 'December': 'data_for_extra_exercise\\\\Sales_December_2019.csv'}"
     },
     "execution_count": 209,
     "metadata": {},
     "output_type": "execute_result"
    }
   ],
   "source": [
    "folder_path = \"data_for_extra_exercise\\\\\"\n",
    "year = '2019'\n",
    "files = {\n",
    "    # 'January': f'{folder_path}Sales_January_{year}.csv',\n",
    "    'February': f'{folder_path}Sales_February_{year}.csv',\n",
    "    'March': f'{folder_path}Sales_March_{year}.csv',\n",
    "    'April': f'{folder_path}Sales_April_{year}.csv',\n",
    "    'May': f'{folder_path}Sales_May_{year}.csv',\n",
    "    'June': f'{folder_path}Sales_June_{year}.csv',\n",
    "    'July': f'{folder_path}Sales_July_{year}.csv',\n",
    "    'August': f'{folder_path}Sales_August_{year}.csv',\n",
    "    'September': f'{folder_path}Sales_September_{year}.csv',\n",
    "    'October': f'{folder_path}Sales_October_{year}.csv',\n",
    "    'November': f'{folder_path}Sales_November_{year}.csv',\n",
    "    'December': f'{folder_path}Sales_December_{year}.csv',\n",
    "}\n",
    "files"
   ],
   "metadata": {
    "collapsed": false,
    "pycharm": {
     "name": "#%%\n"
    }
   }
  },
  {
   "cell_type": "code",
   "execution_count": 210,
   "outputs": [
    {
     "name": "stdout",
     "output_type": "stream",
     "text": [
      "<class 'pandas.core.frame.DataFrame'>\n",
      "Int64Index: 186850 entries, 0 to 25116\n",
      "Data columns (total 6 columns):\n",
      " #   Column            Non-Null Count   Dtype \n",
      "---  ------            --------------   ----- \n",
      " 0   Order ID          186305 non-null  object\n",
      " 1   Product           186305 non-null  object\n",
      " 2   Quantity Ordered  186305 non-null  object\n",
      " 3   Price Each        186305 non-null  object\n",
      " 4   Order Date        186305 non-null  object\n",
      " 5   Purchase Address  186305 non-null  object\n",
      "dtypes: object(6)\n",
      "memory usage: 10.0+ MB\n"
     ]
    },
    {
     "data": {
      "text/plain": "      Order ID                     Product Quantity Ordered Price Each  \\\n0       141234                      iPhone                1        700   \n1       141235    Lightning Charging Cable                1      14.95   \n2       141236            Wired Headphones                2      11.99   \n3       141237            27in FHD Monitor                1     149.99   \n4       141238            Wired Headphones                1      11.99   \n...        ...                         ...              ...        ...   \n25112   319666    Lightning Charging Cable                1      14.95   \n25113   319667       AA Batteries (4-pack)                2       3.84   \n25114   319668             Vareebadd Phone                1        400   \n25115   319669            Wired Headphones                1      11.99   \n25116   319670  Bose SoundSport Headphones                1      99.99   \n\n           Order Date                        Purchase Address  \n0      01/22/19 21:25         944 Walnut St, Boston, MA 02215  \n1      01/28/19 14:15        185 Maple St, Portland, OR 97035  \n2      01/17/19 13:33   538 Adams St, San Francisco, CA 94016  \n3      01/05/19 20:33      738 10th St, Los Angeles, CA 90001  \n4      01/25/19 11:59           387 10th St, Austin, TX 73301  \n...               ...                                     ...  \n25112  12/11/19 20:58  14 Madison St, San Francisco, CA 94016  \n25113  12/01/19 12:01    549 Willow St, Los Angeles, CA 90001  \n25114  12/09/19 06:43        273 Wilson St, Seattle, WA 98101  \n25115  12/03/19 10:39          778 River St, Dallas, TX 75001  \n25116  12/21/19 21:45  747 Chestnut St, Los Angeles, CA 90001  \n\n[186850 rows x 6 columns]",
      "text/html": "<div>\n<style scoped>\n    .dataframe tbody tr th:only-of-type {\n        vertical-align: middle;\n    }\n\n    .dataframe tbody tr th {\n        vertical-align: top;\n    }\n\n    .dataframe thead th {\n        text-align: right;\n    }\n</style>\n<table border=\"1\" class=\"dataframe\">\n  <thead>\n    <tr style=\"text-align: right;\">\n      <th></th>\n      <th>Order ID</th>\n      <th>Product</th>\n      <th>Quantity Ordered</th>\n      <th>Price Each</th>\n      <th>Order Date</th>\n      <th>Purchase Address</th>\n    </tr>\n  </thead>\n  <tbody>\n    <tr>\n      <th>0</th>\n      <td>141234</td>\n      <td>iPhone</td>\n      <td>1</td>\n      <td>700</td>\n      <td>01/22/19 21:25</td>\n      <td>944 Walnut St, Boston, MA 02215</td>\n    </tr>\n    <tr>\n      <th>1</th>\n      <td>141235</td>\n      <td>Lightning Charging Cable</td>\n      <td>1</td>\n      <td>14.95</td>\n      <td>01/28/19 14:15</td>\n      <td>185 Maple St, Portland, OR 97035</td>\n    </tr>\n    <tr>\n      <th>2</th>\n      <td>141236</td>\n      <td>Wired Headphones</td>\n      <td>2</td>\n      <td>11.99</td>\n      <td>01/17/19 13:33</td>\n      <td>538 Adams St, San Francisco, CA 94016</td>\n    </tr>\n    <tr>\n      <th>3</th>\n      <td>141237</td>\n      <td>27in FHD Monitor</td>\n      <td>1</td>\n      <td>149.99</td>\n      <td>01/05/19 20:33</td>\n      <td>738 10th St, Los Angeles, CA 90001</td>\n    </tr>\n    <tr>\n      <th>4</th>\n      <td>141238</td>\n      <td>Wired Headphones</td>\n      <td>1</td>\n      <td>11.99</td>\n      <td>01/25/19 11:59</td>\n      <td>387 10th St, Austin, TX 73301</td>\n    </tr>\n    <tr>\n      <th>...</th>\n      <td>...</td>\n      <td>...</td>\n      <td>...</td>\n      <td>...</td>\n      <td>...</td>\n      <td>...</td>\n    </tr>\n    <tr>\n      <th>25112</th>\n      <td>319666</td>\n      <td>Lightning Charging Cable</td>\n      <td>1</td>\n      <td>14.95</td>\n      <td>12/11/19 20:58</td>\n      <td>14 Madison St, San Francisco, CA 94016</td>\n    </tr>\n    <tr>\n      <th>25113</th>\n      <td>319667</td>\n      <td>AA Batteries (4-pack)</td>\n      <td>2</td>\n      <td>3.84</td>\n      <td>12/01/19 12:01</td>\n      <td>549 Willow St, Los Angeles, CA 90001</td>\n    </tr>\n    <tr>\n      <th>25114</th>\n      <td>319668</td>\n      <td>Vareebadd Phone</td>\n      <td>1</td>\n      <td>400</td>\n      <td>12/09/19 06:43</td>\n      <td>273 Wilson St, Seattle, WA 98101</td>\n    </tr>\n    <tr>\n      <th>25115</th>\n      <td>319669</td>\n      <td>Wired Headphones</td>\n      <td>1</td>\n      <td>11.99</td>\n      <td>12/03/19 10:39</td>\n      <td>778 River St, Dallas, TX 75001</td>\n    </tr>\n    <tr>\n      <th>25116</th>\n      <td>319670</td>\n      <td>Bose SoundSport Headphones</td>\n      <td>1</td>\n      <td>99.99</td>\n      <td>12/21/19 21:45</td>\n      <td>747 Chestnut St, Los Angeles, CA 90001</td>\n    </tr>\n  </tbody>\n</table>\n<p>186850 rows × 6 columns</p>\n</div>"
     },
     "execution_count": 210,
     "metadata": {},
     "output_type": "execute_result"
    }
   ],
   "source": [
    "df = pd.read_csv(\"data_for_extra_exercise\\Sales_January_2019.csv\")\n",
    "\n",
    "for k,v in files.items():\n",
    "    df = pd.concat([df, pd.read_csv(v)])\n",
    "\n",
    "#Showing columns info\n",
    "df.info()\n",
    "# Showing values\n",
    "df\n",
    "\n"
   ],
   "metadata": {
    "collapsed": false,
    "pycharm": {
     "name": "#%%\n"
    }
   }
  },
  {
   "cell_type": "markdown",
   "source": [
    "---\n",
    "## Cleaning data from nulls and other trash"
   ],
   "metadata": {
    "collapsed": false,
    "pycharm": {
     "name": "#%% md\n"
    }
   }
  },
  {
   "cell_type": "code",
   "execution_count": 211,
   "outputs": [
    {
     "data": {
      "text/plain": "      Order ID                     Product Quantity Ordered Price Each  \\\n0       141234                      iPhone                1        700   \n1       141235    Lightning Charging Cable                1      14.95   \n2       141236            Wired Headphones                2      11.99   \n3       141237            27in FHD Monitor                1     149.99   \n4       141238            Wired Headphones                1      11.99   \n...        ...                         ...              ...        ...   \n25112   319666    Lightning Charging Cable                1      14.95   \n25113   319667       AA Batteries (4-pack)                2       3.84   \n25114   319668             Vareebadd Phone                1        400   \n25115   319669            Wired Headphones                1      11.99   \n25116   319670  Bose SoundSport Headphones                1      99.99   \n\n           Order Date                        Purchase Address  \n0      01/22/19 21:25         944 Walnut St, Boston, MA 02215  \n1      01/28/19 14:15        185 Maple St, Portland, OR 97035  \n2      01/17/19 13:33   538 Adams St, San Francisco, CA 94016  \n3      01/05/19 20:33      738 10th St, Los Angeles, CA 90001  \n4      01/25/19 11:59           387 10th St, Austin, TX 73301  \n...               ...                                     ...  \n25112  12/11/19 20:58  14 Madison St, San Francisco, CA 94016  \n25113  12/01/19 12:01    549 Willow St, Los Angeles, CA 90001  \n25114  12/09/19 06:43        273 Wilson St, Seattle, WA 98101  \n25115  12/03/19 10:39          778 River St, Dallas, TX 75001  \n25116  12/21/19 21:45  747 Chestnut St, Los Angeles, CA 90001  \n\n[185950 rows x 6 columns]",
      "text/html": "<div>\n<style scoped>\n    .dataframe tbody tr th:only-of-type {\n        vertical-align: middle;\n    }\n\n    .dataframe tbody tr th {\n        vertical-align: top;\n    }\n\n    .dataframe thead th {\n        text-align: right;\n    }\n</style>\n<table border=\"1\" class=\"dataframe\">\n  <thead>\n    <tr style=\"text-align: right;\">\n      <th></th>\n      <th>Order ID</th>\n      <th>Product</th>\n      <th>Quantity Ordered</th>\n      <th>Price Each</th>\n      <th>Order Date</th>\n      <th>Purchase Address</th>\n    </tr>\n  </thead>\n  <tbody>\n    <tr>\n      <th>0</th>\n      <td>141234</td>\n      <td>iPhone</td>\n      <td>1</td>\n      <td>700</td>\n      <td>01/22/19 21:25</td>\n      <td>944 Walnut St, Boston, MA 02215</td>\n    </tr>\n    <tr>\n      <th>1</th>\n      <td>141235</td>\n      <td>Lightning Charging Cable</td>\n      <td>1</td>\n      <td>14.95</td>\n      <td>01/28/19 14:15</td>\n      <td>185 Maple St, Portland, OR 97035</td>\n    </tr>\n    <tr>\n      <th>2</th>\n      <td>141236</td>\n      <td>Wired Headphones</td>\n      <td>2</td>\n      <td>11.99</td>\n      <td>01/17/19 13:33</td>\n      <td>538 Adams St, San Francisco, CA 94016</td>\n    </tr>\n    <tr>\n      <th>3</th>\n      <td>141237</td>\n      <td>27in FHD Monitor</td>\n      <td>1</td>\n      <td>149.99</td>\n      <td>01/05/19 20:33</td>\n      <td>738 10th St, Los Angeles, CA 90001</td>\n    </tr>\n    <tr>\n      <th>4</th>\n      <td>141238</td>\n      <td>Wired Headphones</td>\n      <td>1</td>\n      <td>11.99</td>\n      <td>01/25/19 11:59</td>\n      <td>387 10th St, Austin, TX 73301</td>\n    </tr>\n    <tr>\n      <th>...</th>\n      <td>...</td>\n      <td>...</td>\n      <td>...</td>\n      <td>...</td>\n      <td>...</td>\n      <td>...</td>\n    </tr>\n    <tr>\n      <th>25112</th>\n      <td>319666</td>\n      <td>Lightning Charging Cable</td>\n      <td>1</td>\n      <td>14.95</td>\n      <td>12/11/19 20:58</td>\n      <td>14 Madison St, San Francisco, CA 94016</td>\n    </tr>\n    <tr>\n      <th>25113</th>\n      <td>319667</td>\n      <td>AA Batteries (4-pack)</td>\n      <td>2</td>\n      <td>3.84</td>\n      <td>12/01/19 12:01</td>\n      <td>549 Willow St, Los Angeles, CA 90001</td>\n    </tr>\n    <tr>\n      <th>25114</th>\n      <td>319668</td>\n      <td>Vareebadd Phone</td>\n      <td>1</td>\n      <td>400</td>\n      <td>12/09/19 06:43</td>\n      <td>273 Wilson St, Seattle, WA 98101</td>\n    </tr>\n    <tr>\n      <th>25115</th>\n      <td>319669</td>\n      <td>Wired Headphones</td>\n      <td>1</td>\n      <td>11.99</td>\n      <td>12/03/19 10:39</td>\n      <td>778 River St, Dallas, TX 75001</td>\n    </tr>\n    <tr>\n      <th>25116</th>\n      <td>319670</td>\n      <td>Bose SoundSport Headphones</td>\n      <td>1</td>\n      <td>99.99</td>\n      <td>12/21/19 21:45</td>\n      <td>747 Chestnut St, Los Angeles, CA 90001</td>\n    </tr>\n  </tbody>\n</table>\n<p>185950 rows × 6 columns</p>\n</div>"
     },
     "execution_count": 211,
     "metadata": {},
     "output_type": "execute_result"
    }
   ],
   "source": [
    "df = df[df['Product'] != 'Product'].dropna()\n",
    "df"
   ],
   "metadata": {
    "collapsed": false,
    "pycharm": {
     "name": "#%%\n"
    }
   }
  },
  {
   "cell_type": "markdown",
   "source": [
    "---\n",
    "## Cast 'Order Date' column to datetime64 type."
   ],
   "metadata": {
    "collapsed": false,
    "pycharm": {
     "name": "#%% md\n"
    }
   }
  },
  {
   "cell_type": "code",
   "execution_count": 212,
   "outputs": [
    {
     "name": "stdout",
     "output_type": "stream",
     "text": [
      "<class 'pandas.core.frame.DataFrame'>\n",
      "Int64Index: 185950 entries, 0 to 25116\n",
      "Data columns (total 6 columns):\n",
      " #   Column            Non-Null Count   Dtype         \n",
      "---  ------            --------------   -----         \n",
      " 0   Order ID          185950 non-null  object        \n",
      " 1   Product           185950 non-null  object        \n",
      " 2   Quantity Ordered  185950 non-null  object        \n",
      " 3   Price Each        185950 non-null  object        \n",
      " 4   Order Date        185950 non-null  datetime64[ns]\n",
      " 5   Purchase Address  185950 non-null  object        \n",
      "dtypes: datetime64[ns](1), object(5)\n",
      "memory usage: 9.9+ MB\n"
     ]
    },
    {
     "data": {
      "text/plain": "      Order ID                     Product Quantity Ordered Price Each  \\\n0       141234                      iPhone                1        700   \n1       141235    Lightning Charging Cable                1      14.95   \n2       141236            Wired Headphones                2      11.99   \n3       141237            27in FHD Monitor                1     149.99   \n4       141238            Wired Headphones                1      11.99   \n...        ...                         ...              ...        ...   \n25112   319666    Lightning Charging Cable                1      14.95   \n25113   319667       AA Batteries (4-pack)                2       3.84   \n25114   319668             Vareebadd Phone                1        400   \n25115   319669            Wired Headphones                1      11.99   \n25116   319670  Bose SoundSport Headphones                1      99.99   \n\n               Order Date                        Purchase Address  \n0     2019-01-22 21:25:00         944 Walnut St, Boston, MA 02215  \n1     2019-01-28 14:15:00        185 Maple St, Portland, OR 97035  \n2     2019-01-17 13:33:00   538 Adams St, San Francisco, CA 94016  \n3     2019-01-05 20:33:00      738 10th St, Los Angeles, CA 90001  \n4     2019-01-25 11:59:00           387 10th St, Austin, TX 73301  \n...                   ...                                     ...  \n25112 2019-12-11 20:58:00  14 Madison St, San Francisco, CA 94016  \n25113 2019-12-01 12:01:00    549 Willow St, Los Angeles, CA 90001  \n25114 2019-12-09 06:43:00        273 Wilson St, Seattle, WA 98101  \n25115 2019-12-03 10:39:00          778 River St, Dallas, TX 75001  \n25116 2019-12-21 21:45:00  747 Chestnut St, Los Angeles, CA 90001  \n\n[185950 rows x 6 columns]",
      "text/html": "<div>\n<style scoped>\n    .dataframe tbody tr th:only-of-type {\n        vertical-align: middle;\n    }\n\n    .dataframe tbody tr th {\n        vertical-align: top;\n    }\n\n    .dataframe thead th {\n        text-align: right;\n    }\n</style>\n<table border=\"1\" class=\"dataframe\">\n  <thead>\n    <tr style=\"text-align: right;\">\n      <th></th>\n      <th>Order ID</th>\n      <th>Product</th>\n      <th>Quantity Ordered</th>\n      <th>Price Each</th>\n      <th>Order Date</th>\n      <th>Purchase Address</th>\n    </tr>\n  </thead>\n  <tbody>\n    <tr>\n      <th>0</th>\n      <td>141234</td>\n      <td>iPhone</td>\n      <td>1</td>\n      <td>700</td>\n      <td>2019-01-22 21:25:00</td>\n      <td>944 Walnut St, Boston, MA 02215</td>\n    </tr>\n    <tr>\n      <th>1</th>\n      <td>141235</td>\n      <td>Lightning Charging Cable</td>\n      <td>1</td>\n      <td>14.95</td>\n      <td>2019-01-28 14:15:00</td>\n      <td>185 Maple St, Portland, OR 97035</td>\n    </tr>\n    <tr>\n      <th>2</th>\n      <td>141236</td>\n      <td>Wired Headphones</td>\n      <td>2</td>\n      <td>11.99</td>\n      <td>2019-01-17 13:33:00</td>\n      <td>538 Adams St, San Francisco, CA 94016</td>\n    </tr>\n    <tr>\n      <th>3</th>\n      <td>141237</td>\n      <td>27in FHD Monitor</td>\n      <td>1</td>\n      <td>149.99</td>\n      <td>2019-01-05 20:33:00</td>\n      <td>738 10th St, Los Angeles, CA 90001</td>\n    </tr>\n    <tr>\n      <th>4</th>\n      <td>141238</td>\n      <td>Wired Headphones</td>\n      <td>1</td>\n      <td>11.99</td>\n      <td>2019-01-25 11:59:00</td>\n      <td>387 10th St, Austin, TX 73301</td>\n    </tr>\n    <tr>\n      <th>...</th>\n      <td>...</td>\n      <td>...</td>\n      <td>...</td>\n      <td>...</td>\n      <td>...</td>\n      <td>...</td>\n    </tr>\n    <tr>\n      <th>25112</th>\n      <td>319666</td>\n      <td>Lightning Charging Cable</td>\n      <td>1</td>\n      <td>14.95</td>\n      <td>2019-12-11 20:58:00</td>\n      <td>14 Madison St, San Francisco, CA 94016</td>\n    </tr>\n    <tr>\n      <th>25113</th>\n      <td>319667</td>\n      <td>AA Batteries (4-pack)</td>\n      <td>2</td>\n      <td>3.84</td>\n      <td>2019-12-01 12:01:00</td>\n      <td>549 Willow St, Los Angeles, CA 90001</td>\n    </tr>\n    <tr>\n      <th>25114</th>\n      <td>319668</td>\n      <td>Vareebadd Phone</td>\n      <td>1</td>\n      <td>400</td>\n      <td>2019-12-09 06:43:00</td>\n      <td>273 Wilson St, Seattle, WA 98101</td>\n    </tr>\n    <tr>\n      <th>25115</th>\n      <td>319669</td>\n      <td>Wired Headphones</td>\n      <td>1</td>\n      <td>11.99</td>\n      <td>2019-12-03 10:39:00</td>\n      <td>778 River St, Dallas, TX 75001</td>\n    </tr>\n    <tr>\n      <th>25116</th>\n      <td>319670</td>\n      <td>Bose SoundSport Headphones</td>\n      <td>1</td>\n      <td>99.99</td>\n      <td>2019-12-21 21:45:00</td>\n      <td>747 Chestnut St, Los Angeles, CA 90001</td>\n    </tr>\n  </tbody>\n</table>\n<p>185950 rows × 6 columns</p>\n</div>"
     },
     "execution_count": 212,
     "metadata": {},
     "output_type": "execute_result"
    }
   ],
   "source": [
    "temp = []\n",
    "for order in df['Order Date']:\n",
    "    # print(order)\n",
    "    if type(order) == float:\n",
    "        print(order)\n",
    "    r,l = order.split(' ')\n",
    "    temp.append(r[:6] + '20' + r[6:] + ' ' + l)\n",
    "df['Order Date'] = temp\n",
    "df['Order Date'] = pd.to_datetime(df['Order Date'], format=\"%m/%d/%Y %H:%M\")\n",
    "# Showing columns info\n",
    "df.info()\n",
    "df"
   ],
   "metadata": {
    "collapsed": false,
    "pycharm": {
     "name": "#%%\n"
    }
   }
  },
  {
   "cell_type": "markdown",
   "source": [
    "---\n",
    "## Cleaning by years"
   ],
   "metadata": {
    "collapsed": false,
    "pycharm": {
     "name": "#%% md\n"
    }
   }
  },
  {
   "cell_type": "code",
   "execution_count": 213,
   "outputs": [],
   "source": [
    "df = df[pd.DatetimeIndex(df['Order Date']).year == 2019]"
   ],
   "metadata": {
    "collapsed": false,
    "pycharm": {
     "name": "#%%\n"
    }
   }
  },
  {
   "cell_type": "markdown",
   "source": [
    "---\n",
    "## Cast other columns to numeric types"
   ],
   "metadata": {
    "collapsed": false,
    "pycharm": {
     "name": "#%% md\n"
    }
   }
  },
  {
   "cell_type": "code",
   "execution_count": 219,
   "outputs": [
    {
     "name": "stdout",
     "output_type": "stream",
     "text": [
      "<class 'pandas.core.frame.DataFrame'>\n",
      "Int64Index: 185916 entries, 0 to 25116\n",
      "Data columns (total 6 columns):\n",
      " #   Column            Non-Null Count   Dtype         \n",
      "---  ------            --------------   -----         \n",
      " 0   Order ID          185916 non-null  int64         \n",
      " 1   Product           185916 non-null  object        \n",
      " 2   Quantity Ordered  185916 non-null  int8          \n",
      " 3   Price Each        185916 non-null  float16       \n",
      " 4   Order Date        185916 non-null  datetime64[ns]\n",
      " 5   Purchase Address  185916 non-null  object        \n",
      "dtypes: datetime64[ns](1), float16(1), int64(1), int8(1), object(2)\n",
      "memory usage: 7.6+ MB\n"
     ]
    }
   ],
   "source": [
    "df['Quantity Ordered'].astype(np.int8)\n",
    "df['Order ID'].astype(np.int64)\n",
    "df['Price Each'].astype(np.float16)\n",
    "df.info()"
   ],
   "metadata": {
    "collapsed": false,
    "pycharm": {
     "name": "#%%\n"
    }
   }
  },
  {
   "cell_type": "markdown",
   "source": [
    "---\n",
    "## Check are there null values"
   ],
   "metadata": {
    "collapsed": false,
    "pycharm": {
     "name": "#%% md\n"
    }
   }
  },
  {
   "cell_type": "code",
   "execution_count": 215,
   "outputs": [
    {
     "data": {
      "text/plain": "Order ID            0\nProduct             0\nQuantity Ordered    0\nPrice Each          0\nOrder Date          0\nPurchase Address    0\ndtype: int64"
     },
     "execution_count": 215,
     "metadata": {},
     "output_type": "execute_result"
    }
   ],
   "source": [
    "missing_values_count = df.isnull().sum()\n",
    "missing_values_count"
   ],
   "metadata": {
    "collapsed": false,
    "pycharm": {
     "name": "#%%\n"
    }
   }
  },
  {
   "cell_type": "markdown",
   "source": [
    "\n",
    "## Data preparation has been done.\n",
    "---\n"
   ],
   "metadata": {
    "collapsed": false,
    "pycharm": {
     "name": "#%% md\n"
    }
   }
  },
  {
   "cell_type": "markdown",
   "source": [
    "---\n",
    "# Exercises\n",
    "---"
   ],
   "metadata": {
    "collapsed": false,
    "pycharm": {
     "name": "#%% md\n"
    }
   }
  },
  {
   "cell_type": "markdown",
   "source": [
    "---\n",
    "## Exercise 1. Prepare a statement showing the totals of the sales amounts for each recorded day in 2019.\n",
    "---"
   ],
   "metadata": {
    "collapsed": false,
    "pycharm": {
     "name": "#%% md\n"
    }
   }
  },
  {
   "cell_type": "code",
   "execution_count": 216,
   "outputs": [
    {
     "data": {
      "text/plain": "     Order Date      Total\n0    2019-01-01  65682.893\n1    2019-01-02  70814.283\n2    2019-01-03  47047.289\n3    2019-01-04  62013.217\n4    2019-01-05  46525.682\n..          ...        ...\n360  2019-12-27 126630.824\n361  2019-12-28 134018.254\n362  2019-12-29 156027.242\n363  2019-12-30 152322.506\n364  2019-12-31 131456.648\n\n[365 rows x 2 columns]",
      "text/html": "<div>\n<style scoped>\n    .dataframe tbody tr th:only-of-type {\n        vertical-align: middle;\n    }\n\n    .dataframe tbody tr th {\n        vertical-align: top;\n    }\n\n    .dataframe thead th {\n        text-align: right;\n    }\n</style>\n<table border=\"1\" class=\"dataframe\">\n  <thead>\n    <tr style=\"text-align: right;\">\n      <th></th>\n      <th>Order Date</th>\n      <th>Total</th>\n    </tr>\n  </thead>\n  <tbody>\n    <tr>\n      <th>0</th>\n      <td>2019-01-01</td>\n      <td>65682.893</td>\n    </tr>\n    <tr>\n      <th>1</th>\n      <td>2019-01-02</td>\n      <td>70814.283</td>\n    </tr>\n    <tr>\n      <th>2</th>\n      <td>2019-01-03</td>\n      <td>47047.289</td>\n    </tr>\n    <tr>\n      <th>3</th>\n      <td>2019-01-04</td>\n      <td>62013.217</td>\n    </tr>\n    <tr>\n      <th>4</th>\n      <td>2019-01-05</td>\n      <td>46525.682</td>\n    </tr>\n    <tr>\n      <th>...</th>\n      <td>...</td>\n      <td>...</td>\n    </tr>\n    <tr>\n      <th>360</th>\n      <td>2019-12-27</td>\n      <td>126630.824</td>\n    </tr>\n    <tr>\n      <th>361</th>\n      <td>2019-12-28</td>\n      <td>134018.254</td>\n    </tr>\n    <tr>\n      <th>362</th>\n      <td>2019-12-29</td>\n      <td>156027.242</td>\n    </tr>\n    <tr>\n      <th>363</th>\n      <td>2019-12-30</td>\n      <td>152322.506</td>\n    </tr>\n    <tr>\n      <th>364</th>\n      <td>2019-12-31</td>\n      <td>131456.648</td>\n    </tr>\n  </tbody>\n</table>\n<p>365 rows × 2 columns</p>\n</div>"
     },
     "execution_count": 216,
     "metadata": {},
     "output_type": "execute_result"
    }
   ],
   "source": [
    "result = df[['Product', 'Quantity Ordered', 'Price Each', 'Order Date']].groupby([df['Order Date'].dt.date, 'Product', 'Price Each']).sum().reset_index()\n",
    "result['Multiplication'] = result['Quantity Ordered'] * result['Price Each']\n",
    "# result\n",
    "pd.options.display.float_format = '{:.3f}'.format\n",
    "total_sum = result[['Order Date', 'Multiplication']].groupby('Order Date').sum().rename(columns={'Multiplication':'Total'}).reset_index()\n",
    "total_sum\n",
    "# for_plot = total_sum.copy()\n",
    "# for_plot['Month'] = pd.DatetimeIndex(total_sum['Order Date']).month\n",
    "# for_plot['Day'] = pd.DatetimeIndex(total_sum['Order Date']).day\n",
    "# a = for_plot[['Month', 'Day', 'Total']]\n",
    "# for_plot.groupby('Order Date')"
   ],
   "metadata": {
    "collapsed": false,
    "pycharm": {
     "name": "#%%\n"
    }
   }
  },
  {
   "cell_type": "markdown",
   "source": [
    "### Visualization (heatmap)"
   ],
   "metadata": {
    "collapsed": false,
    "pycharm": {
     "name": "#%% md\n"
    }
   }
  },
  {
   "cell_type": "code",
   "execution_count": 217,
   "outputs": [],
   "source": [
    "# ax = sns.heatmap(for_plot[['Month', 'Day', 'Total']].unstack())\n",
    "# month = pd.DatetimeIndex(df['Order Date']).month.unique()\n",
    "# month\n"
   ],
   "metadata": {
    "collapsed": false,
    "pycharm": {
     "name": "#%%\n"
    }
   }
  },
  {
   "cell_type": "markdown",
   "source": [
    "---\n",
    "## Exercise 2. Prepare a list of the 3 products that were sold the most, their total sum of sales amounts and the number of items sold for each quarter of 2019.\n",
    "---"
   ],
   "metadata": {
    "collapsed": false,
    "pycharm": {
     "name": "#%% md\n"
    }
   }
  },
  {
   "cell_type": "code",
   "execution_count": 218,
   "outputs": [
    {
     "data": {
      "text/plain": "    Order Date                 Product  Price Each  Quantity Ordered  \\\n0            1            20in Monitor     110.000           787.000   \n1            1  27in 4K Gaming Monitor     390.000          1218.000   \n2            1        27in FHD Monitor     150.000          1502.000   \n3            1  34in Ultrawide Monitor     380.000          1254.000   \n4            1   AA Batteries (4-pack)       3.840          5375.000   \n..         ...                     ...         ...               ...   \n71           4         ThinkPad Laptop    1000.000          1374.000   \n72           4    USB-C Charging Cable      11.953          8173.000   \n73           4         Vareebadd Phone     400.000           664.000   \n74           4        Wired Headphones      11.992          6957.000   \n75           4                  iPhone     700.000          2287.000   \n\n         Total  \n0    86570.000  \n1   475020.000  \n2   225300.000  \n3   476520.000  \n4    20639.160  \n..         ...  \n71 1374000.000  \n72   97692.891  \n73  265600.000  \n74   83429.648  \n75 1600900.000  \n\n[76 rows x 5 columns]",
      "text/html": "<div>\n<style scoped>\n    .dataframe tbody tr th:only-of-type {\n        vertical-align: middle;\n    }\n\n    .dataframe tbody tr th {\n        vertical-align: top;\n    }\n\n    .dataframe thead th {\n        text-align: right;\n    }\n</style>\n<table border=\"1\" class=\"dataframe\">\n  <thead>\n    <tr style=\"text-align: right;\">\n      <th></th>\n      <th>Order Date</th>\n      <th>Product</th>\n      <th>Price Each</th>\n      <th>Quantity Ordered</th>\n      <th>Total</th>\n    </tr>\n  </thead>\n  <tbody>\n    <tr>\n      <th>0</th>\n      <td>1</td>\n      <td>20in Monitor</td>\n      <td>110.000</td>\n      <td>787.000</td>\n      <td>86570.000</td>\n    </tr>\n    <tr>\n      <th>1</th>\n      <td>1</td>\n      <td>27in 4K Gaming Monitor</td>\n      <td>390.000</td>\n      <td>1218.000</td>\n      <td>475020.000</td>\n    </tr>\n    <tr>\n      <th>2</th>\n      <td>1</td>\n      <td>27in FHD Monitor</td>\n      <td>150.000</td>\n      <td>1502.000</td>\n      <td>225300.000</td>\n    </tr>\n    <tr>\n      <th>3</th>\n      <td>1</td>\n      <td>34in Ultrawide Monitor</td>\n      <td>380.000</td>\n      <td>1254.000</td>\n      <td>476520.000</td>\n    </tr>\n    <tr>\n      <th>4</th>\n      <td>1</td>\n      <td>AA Batteries (4-pack)</td>\n      <td>3.840</td>\n      <td>5375.000</td>\n      <td>20639.160</td>\n    </tr>\n    <tr>\n      <th>...</th>\n      <td>...</td>\n      <td>...</td>\n      <td>...</td>\n      <td>...</td>\n      <td>...</td>\n    </tr>\n    <tr>\n      <th>71</th>\n      <td>4</td>\n      <td>ThinkPad Laptop</td>\n      <td>1000.000</td>\n      <td>1374.000</td>\n      <td>1374000.000</td>\n    </tr>\n    <tr>\n      <th>72</th>\n      <td>4</td>\n      <td>USB-C Charging Cable</td>\n      <td>11.953</td>\n      <td>8173.000</td>\n      <td>97692.891</td>\n    </tr>\n    <tr>\n      <th>73</th>\n      <td>4</td>\n      <td>Vareebadd Phone</td>\n      <td>400.000</td>\n      <td>664.000</td>\n      <td>265600.000</td>\n    </tr>\n    <tr>\n      <th>74</th>\n      <td>4</td>\n      <td>Wired Headphones</td>\n      <td>11.992</td>\n      <td>6957.000</td>\n      <td>83429.648</td>\n    </tr>\n    <tr>\n      <th>75</th>\n      <td>4</td>\n      <td>iPhone</td>\n      <td>700.000</td>\n      <td>2287.000</td>\n      <td>1600900.000</td>\n    </tr>\n  </tbody>\n</table>\n<p>76 rows × 5 columns</p>\n</div>"
     },
     "execution_count": 218,
     "metadata": {},
     "output_type": "execute_result"
    }
   ],
   "source": [
    "# q1 = df[pd.DatetimeIndex(df['Order Date']).month <= 3]\n",
    "# q2 = df[pd.DatetimeIndex(df['Order Date']).month <= 6]\n",
    "# q2 = q2[pd.DatetimeIndex(q2['Order Date']).month > 3]\n",
    "# q3 = df[pd.DatetimeIndex(df['Order Date']).month > 6]\n",
    "\n",
    "result = df[['Product', 'Quantity Ordered', 'Price Each', 'Order Date']].groupby([df['Order Date'].dt.quarter, 'Product', 'Price Each']).sum().reset_index()\n",
    "result['Total'] = result['Quantity Ordered'] * result['Price Each']\n",
    "result\n",
    "\n",
    "# I don't know on which criteria i need to choose he most sold items,\n",
    "\n"
   ],
   "metadata": {
    "collapsed": false,
    "pycharm": {
     "name": "#%%\n"
    }
   }
  }
 ],
 "metadata": {
  "kernelspec": {
   "display_name": "Python 3",
   "language": "python",
   "name": "python3"
  },
  "language_info": {
   "codemirror_mode": {
    "name": "ipython",
    "version": 2
   },
   "file_extension": ".py",
   "mimetype": "text/x-python",
   "name": "python",
   "nbconvert_exporter": "python",
   "pygments_lexer": "ipython2",
   "version": "2.7.6"
  }
 },
 "nbformat": 4,
 "nbformat_minor": 0
}