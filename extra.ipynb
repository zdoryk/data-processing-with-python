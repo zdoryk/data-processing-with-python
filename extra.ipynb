{
 "cells": [
  {
   "cell_type": "markdown",
   "source": [
    "# Level 4 Python (Extra)\n",
    "--------------|-------|\n",
    "|Danylo Zdoryk| 233305|\n",
    "|Dmytro Shelest| 226453|\n",
    "|Gracjan Grala| 210192|\n",
    "|Jan Kisielewicz| 210221|"
   ],
   "metadata": {
    "collapsed": false,
    "pycharm": {
     "name": "#%% md\n"
    }
   }
  },
  {
   "cell_type": "markdown",
   "source": [
    "---\n",
    "## Importing libraries"
   ],
   "metadata": {
    "collapsed": false,
    "pycharm": {
     "name": "#%% md\n"
    }
   }
  },
  {
   "cell_type": "code",
   "execution_count": 32,
   "outputs": [],
   "source": [
    "import pandas as pd\n",
    "import numpy as np\n",
    "\n",
    "import matplotlib.pyplot as plt\n",
    "import seaborn as sns\n",
    "pd.options.mode.chained_assignment = None"
   ],
   "metadata": {
    "collapsed": false,
    "pycharm": {
     "name": "#%%\n"
    }
   }
  },
  {
   "cell_type": "markdown",
   "source": [
    "---\n",
    "# Reading data and creating data frame using pandas"
   ],
   "metadata": {
    "collapsed": false,
    "pycharm": {
     "name": "#%% md\n"
    }
   }
  },
  {
   "cell_type": "code",
   "execution_count": 33,
   "outputs": [
    {
     "data": {
      "text/plain": "{'February': 'data_for_extra_exercise\\\\Sales_February_2019.csv',\n 'March': 'data_for_extra_exercise\\\\Sales_March_2019.csv',\n 'April': 'data_for_extra_exercise\\\\Sales_April_2019.csv',\n 'May': 'data_for_extra_exercise\\\\Sales_May_2019.csv',\n 'June': 'data_for_extra_exercise\\\\Sales_June_2019.csv',\n 'July': 'data_for_extra_exercise\\\\Sales_July_2019.csv',\n 'August': 'data_for_extra_exercise\\\\Sales_August_2019.csv',\n 'September': 'data_for_extra_exercise\\\\Sales_September_2019.csv',\n 'October': 'data_for_extra_exercise\\\\Sales_October_2019.csv',\n 'November': 'data_for_extra_exercise\\\\Sales_November_2019.csv',\n 'December': 'data_for_extra_exercise\\\\Sales_December_2019.csv'}"
     },
     "execution_count": 33,
     "metadata": {},
     "output_type": "execute_result"
    }
   ],
   "source": [
    "folder_path = \"data_for_extra_exercise\\\\\"\n",
    "year = '2019'\n",
    "files = {\n",
    "    # 'January': f'{folder_path}Sales_January_{year}.csv',\n",
    "    'February': f'{folder_path}Sales_February_{year}.csv',\n",
    "    'March': f'{folder_path}Sales_March_{year}.csv',\n",
    "    'April': f'{folder_path}Sales_April_{year}.csv',\n",
    "    'May': f'{folder_path}Sales_May_{year}.csv',\n",
    "    'June': f'{folder_path}Sales_June_{year}.csv',\n",
    "    'July': f'{folder_path}Sales_July_{year}.csv',\n",
    "    'August': f'{folder_path}Sales_August_{year}.csv',\n",
    "    'September': f'{folder_path}Sales_September_{year}.csv',\n",
    "    'October': f'{folder_path}Sales_October_{year}.csv',\n",
    "    'November': f'{folder_path}Sales_November_{year}.csv',\n",
    "    'December': f'{folder_path}Sales_December_{year}.csv',\n",
    "}\n",
    "files"
   ],
   "metadata": {
    "collapsed": false,
    "pycharm": {
     "name": "#%%\n"
    }
   }
  },
  {
   "cell_type": "code",
   "execution_count": 34,
   "outputs": [
    {
     "name": "stdout",
     "output_type": "stream",
     "text": [
      "<class 'pandas.core.frame.DataFrame'>\n",
      "Int64Index: 186850 entries, 0 to 25116\n",
      "Data columns (total 6 columns):\n",
      " #   Column            Non-Null Count   Dtype \n",
      "---  ------            --------------   ----- \n",
      " 0   Order ID          186305 non-null  object\n",
      " 1   Product           186305 non-null  object\n",
      " 2   Quantity Ordered  186305 non-null  object\n",
      " 3   Price Each        186305 non-null  object\n",
      " 4   Order Date        186305 non-null  object\n",
      " 5   Purchase Address  186305 non-null  object\n",
      "dtypes: object(6)\n",
      "memory usage: 10.0+ MB\n"
     ]
    },
    {
     "data": {
      "text/plain": "      Order ID                     Product Quantity Ordered Price Each  \\\n0       141234                      iPhone                1        700   \n1       141235    Lightning Charging Cable                1      14.95   \n2       141236            Wired Headphones                2      11.99   \n3       141237            27in FHD Monitor                1     149.99   \n4       141238            Wired Headphones                1      11.99   \n...        ...                         ...              ...        ...   \n25112   319666    Lightning Charging Cable                1      14.95   \n25113   319667       AA Batteries (4-pack)                2       3.84   \n25114   319668             Vareebadd Phone                1        400   \n25115   319669            Wired Headphones                1      11.99   \n25116   319670  Bose SoundSport Headphones                1      99.99   \n\n           Order Date                        Purchase Address  \n0      01/22/19 21:25         944 Walnut St, Boston, MA 02215  \n1      01/28/19 14:15        185 Maple St, Portland, OR 97035  \n2      01/17/19 13:33   538 Adams St, San Francisco, CA 94016  \n3      01/05/19 20:33      738 10th St, Los Angeles, CA 90001  \n4      01/25/19 11:59           387 10th St, Austin, TX 73301  \n...               ...                                     ...  \n25112  12/11/19 20:58  14 Madison St, San Francisco, CA 94016  \n25113  12/01/19 12:01    549 Willow St, Los Angeles, CA 90001  \n25114  12/09/19 06:43        273 Wilson St, Seattle, WA 98101  \n25115  12/03/19 10:39          778 River St, Dallas, TX 75001  \n25116  12/21/19 21:45  747 Chestnut St, Los Angeles, CA 90001  \n\n[186850 rows x 6 columns]",
      "text/html": "<div>\n<style scoped>\n    .dataframe tbody tr th:only-of-type {\n        vertical-align: middle;\n    }\n\n    .dataframe tbody tr th {\n        vertical-align: top;\n    }\n\n    .dataframe thead th {\n        text-align: right;\n    }\n</style>\n<table border=\"1\" class=\"dataframe\">\n  <thead>\n    <tr style=\"text-align: right;\">\n      <th></th>\n      <th>Order ID</th>\n      <th>Product</th>\n      <th>Quantity Ordered</th>\n      <th>Price Each</th>\n      <th>Order Date</th>\n      <th>Purchase Address</th>\n    </tr>\n  </thead>\n  <tbody>\n    <tr>\n      <th>0</th>\n      <td>141234</td>\n      <td>iPhone</td>\n      <td>1</td>\n      <td>700</td>\n      <td>01/22/19 21:25</td>\n      <td>944 Walnut St, Boston, MA 02215</td>\n    </tr>\n    <tr>\n      <th>1</th>\n      <td>141235</td>\n      <td>Lightning Charging Cable</td>\n      <td>1</td>\n      <td>14.95</td>\n      <td>01/28/19 14:15</td>\n      <td>185 Maple St, Portland, OR 97035</td>\n    </tr>\n    <tr>\n      <th>2</th>\n      <td>141236</td>\n      <td>Wired Headphones</td>\n      <td>2</td>\n      <td>11.99</td>\n      <td>01/17/19 13:33</td>\n      <td>538 Adams St, San Francisco, CA 94016</td>\n    </tr>\n    <tr>\n      <th>3</th>\n      <td>141237</td>\n      <td>27in FHD Monitor</td>\n      <td>1</td>\n      <td>149.99</td>\n      <td>01/05/19 20:33</td>\n      <td>738 10th St, Los Angeles, CA 90001</td>\n    </tr>\n    <tr>\n      <th>4</th>\n      <td>141238</td>\n      <td>Wired Headphones</td>\n      <td>1</td>\n      <td>11.99</td>\n      <td>01/25/19 11:59</td>\n      <td>387 10th St, Austin, TX 73301</td>\n    </tr>\n    <tr>\n      <th>...</th>\n      <td>...</td>\n      <td>...</td>\n      <td>...</td>\n      <td>...</td>\n      <td>...</td>\n      <td>...</td>\n    </tr>\n    <tr>\n      <th>25112</th>\n      <td>319666</td>\n      <td>Lightning Charging Cable</td>\n      <td>1</td>\n      <td>14.95</td>\n      <td>12/11/19 20:58</td>\n      <td>14 Madison St, San Francisco, CA 94016</td>\n    </tr>\n    <tr>\n      <th>25113</th>\n      <td>319667</td>\n      <td>AA Batteries (4-pack)</td>\n      <td>2</td>\n      <td>3.84</td>\n      <td>12/01/19 12:01</td>\n      <td>549 Willow St, Los Angeles, CA 90001</td>\n    </tr>\n    <tr>\n      <th>25114</th>\n      <td>319668</td>\n      <td>Vareebadd Phone</td>\n      <td>1</td>\n      <td>400</td>\n      <td>12/09/19 06:43</td>\n      <td>273 Wilson St, Seattle, WA 98101</td>\n    </tr>\n    <tr>\n      <th>25115</th>\n      <td>319669</td>\n      <td>Wired Headphones</td>\n      <td>1</td>\n      <td>11.99</td>\n      <td>12/03/19 10:39</td>\n      <td>778 River St, Dallas, TX 75001</td>\n    </tr>\n    <tr>\n      <th>25116</th>\n      <td>319670</td>\n      <td>Bose SoundSport Headphones</td>\n      <td>1</td>\n      <td>99.99</td>\n      <td>12/21/19 21:45</td>\n      <td>747 Chestnut St, Los Angeles, CA 90001</td>\n    </tr>\n  </tbody>\n</table>\n<p>186850 rows × 6 columns</p>\n</div>"
     },
     "execution_count": 34,
     "metadata": {},
     "output_type": "execute_result"
    }
   ],
   "source": [
    "df = pd.read_csv(\"data_for_extra_exercise\\Sales_January_2019.csv\")\n",
    "\n",
    "for k,v in files.items():\n",
    "    df = pd.concat([df, pd.read_csv(v)])\n",
    "\n",
    "#Showing columns info\n",
    "df.info()\n",
    "# Showing values\n",
    "df\n",
    "\n"
   ],
   "metadata": {
    "collapsed": false,
    "pycharm": {
     "name": "#%%\n"
    }
   }
  },
  {
   "cell_type": "markdown",
   "source": [
    "---\n",
    "## Cleaning data from nulls and other trash"
   ],
   "metadata": {
    "collapsed": false,
    "pycharm": {
     "name": "#%% md\n"
    }
   }
  },
  {
   "cell_type": "code",
   "execution_count": 35,
   "outputs": [
    {
     "data": {
      "text/plain": "      Order ID                     Product Quantity Ordered Price Each  \\\n0       141234                      iPhone                1        700   \n1       141235    Lightning Charging Cable                1      14.95   \n2       141236            Wired Headphones                2      11.99   \n3       141237            27in FHD Monitor                1     149.99   \n4       141238            Wired Headphones                1      11.99   \n...        ...                         ...              ...        ...   \n25112   319666    Lightning Charging Cable                1      14.95   \n25113   319667       AA Batteries (4-pack)                2       3.84   \n25114   319668             Vareebadd Phone                1        400   \n25115   319669            Wired Headphones                1      11.99   \n25116   319670  Bose SoundSport Headphones                1      99.99   \n\n           Order Date                        Purchase Address  \n0      01/22/19 21:25         944 Walnut St, Boston, MA 02215  \n1      01/28/19 14:15        185 Maple St, Portland, OR 97035  \n2      01/17/19 13:33   538 Adams St, San Francisco, CA 94016  \n3      01/05/19 20:33      738 10th St, Los Angeles, CA 90001  \n4      01/25/19 11:59           387 10th St, Austin, TX 73301  \n...               ...                                     ...  \n25112  12/11/19 20:58  14 Madison St, San Francisco, CA 94016  \n25113  12/01/19 12:01    549 Willow St, Los Angeles, CA 90001  \n25114  12/09/19 06:43        273 Wilson St, Seattle, WA 98101  \n25115  12/03/19 10:39          778 River St, Dallas, TX 75001  \n25116  12/21/19 21:45  747 Chestnut St, Los Angeles, CA 90001  \n\n[185950 rows x 6 columns]",
      "text/html": "<div>\n<style scoped>\n    .dataframe tbody tr th:only-of-type {\n        vertical-align: middle;\n    }\n\n    .dataframe tbody tr th {\n        vertical-align: top;\n    }\n\n    .dataframe thead th {\n        text-align: right;\n    }\n</style>\n<table border=\"1\" class=\"dataframe\">\n  <thead>\n    <tr style=\"text-align: right;\">\n      <th></th>\n      <th>Order ID</th>\n      <th>Product</th>\n      <th>Quantity Ordered</th>\n      <th>Price Each</th>\n      <th>Order Date</th>\n      <th>Purchase Address</th>\n    </tr>\n  </thead>\n  <tbody>\n    <tr>\n      <th>0</th>\n      <td>141234</td>\n      <td>iPhone</td>\n      <td>1</td>\n      <td>700</td>\n      <td>01/22/19 21:25</td>\n      <td>944 Walnut St, Boston, MA 02215</td>\n    </tr>\n    <tr>\n      <th>1</th>\n      <td>141235</td>\n      <td>Lightning Charging Cable</td>\n      <td>1</td>\n      <td>14.95</td>\n      <td>01/28/19 14:15</td>\n      <td>185 Maple St, Portland, OR 97035</td>\n    </tr>\n    <tr>\n      <th>2</th>\n      <td>141236</td>\n      <td>Wired Headphones</td>\n      <td>2</td>\n      <td>11.99</td>\n      <td>01/17/19 13:33</td>\n      <td>538 Adams St, San Francisco, CA 94016</td>\n    </tr>\n    <tr>\n      <th>3</th>\n      <td>141237</td>\n      <td>27in FHD Monitor</td>\n      <td>1</td>\n      <td>149.99</td>\n      <td>01/05/19 20:33</td>\n      <td>738 10th St, Los Angeles, CA 90001</td>\n    </tr>\n    <tr>\n      <th>4</th>\n      <td>141238</td>\n      <td>Wired Headphones</td>\n      <td>1</td>\n      <td>11.99</td>\n      <td>01/25/19 11:59</td>\n      <td>387 10th St, Austin, TX 73301</td>\n    </tr>\n    <tr>\n      <th>...</th>\n      <td>...</td>\n      <td>...</td>\n      <td>...</td>\n      <td>...</td>\n      <td>...</td>\n      <td>...</td>\n    </tr>\n    <tr>\n      <th>25112</th>\n      <td>319666</td>\n      <td>Lightning Charging Cable</td>\n      <td>1</td>\n      <td>14.95</td>\n      <td>12/11/19 20:58</td>\n      <td>14 Madison St, San Francisco, CA 94016</td>\n    </tr>\n    <tr>\n      <th>25113</th>\n      <td>319667</td>\n      <td>AA Batteries (4-pack)</td>\n      <td>2</td>\n      <td>3.84</td>\n      <td>12/01/19 12:01</td>\n      <td>549 Willow St, Los Angeles, CA 90001</td>\n    </tr>\n    <tr>\n      <th>25114</th>\n      <td>319668</td>\n      <td>Vareebadd Phone</td>\n      <td>1</td>\n      <td>400</td>\n      <td>12/09/19 06:43</td>\n      <td>273 Wilson St, Seattle, WA 98101</td>\n    </tr>\n    <tr>\n      <th>25115</th>\n      <td>319669</td>\n      <td>Wired Headphones</td>\n      <td>1</td>\n      <td>11.99</td>\n      <td>12/03/19 10:39</td>\n      <td>778 River St, Dallas, TX 75001</td>\n    </tr>\n    <tr>\n      <th>25116</th>\n      <td>319670</td>\n      <td>Bose SoundSport Headphones</td>\n      <td>1</td>\n      <td>99.99</td>\n      <td>12/21/19 21:45</td>\n      <td>747 Chestnut St, Los Angeles, CA 90001</td>\n    </tr>\n  </tbody>\n</table>\n<p>185950 rows × 6 columns</p>\n</div>"
     },
     "execution_count": 35,
     "metadata": {},
     "output_type": "execute_result"
    }
   ],
   "source": [
    "df = df[df['Product'] != 'Product'].dropna()\n",
    "df"
   ],
   "metadata": {
    "collapsed": false,
    "pycharm": {
     "name": "#%%\n"
    }
   }
  },
  {
   "cell_type": "markdown",
   "source": [
    "---\n",
    "## Cast 'Order Date' column to datetime64 type."
   ],
   "metadata": {
    "collapsed": false,
    "pycharm": {
     "name": "#%% md\n"
    }
   }
  },
  {
   "cell_type": "code",
   "execution_count": 36,
   "outputs": [
    {
     "name": "stdout",
     "output_type": "stream",
     "text": [
      "<class 'pandas.core.frame.DataFrame'>\n",
      "Int64Index: 185950 entries, 0 to 25116\n",
      "Data columns (total 6 columns):\n",
      " #   Column            Non-Null Count   Dtype         \n",
      "---  ------            --------------   -----         \n",
      " 0   Order ID          185950 non-null  object        \n",
      " 1   Product           185950 non-null  object        \n",
      " 2   Quantity Ordered  185950 non-null  object        \n",
      " 3   Price Each        185950 non-null  object        \n",
      " 4   Order Date        185950 non-null  datetime64[ns]\n",
      " 5   Purchase Address  185950 non-null  object        \n",
      "dtypes: datetime64[ns](1), object(5)\n",
      "memory usage: 9.9+ MB\n"
     ]
    },
    {
     "data": {
      "text/plain": "      Order ID                     Product Quantity Ordered Price Each  \\\n0       141234                      iPhone                1        700   \n1       141235    Lightning Charging Cable                1      14.95   \n2       141236            Wired Headphones                2      11.99   \n3       141237            27in FHD Monitor                1     149.99   \n4       141238            Wired Headphones                1      11.99   \n...        ...                         ...              ...        ...   \n25112   319666    Lightning Charging Cable                1      14.95   \n25113   319667       AA Batteries (4-pack)                2       3.84   \n25114   319668             Vareebadd Phone                1        400   \n25115   319669            Wired Headphones                1      11.99   \n25116   319670  Bose SoundSport Headphones                1      99.99   \n\n               Order Date                        Purchase Address  \n0     2019-01-22 21:25:00         944 Walnut St, Boston, MA 02215  \n1     2019-01-28 14:15:00        185 Maple St, Portland, OR 97035  \n2     2019-01-17 13:33:00   538 Adams St, San Francisco, CA 94016  \n3     2019-01-05 20:33:00      738 10th St, Los Angeles, CA 90001  \n4     2019-01-25 11:59:00           387 10th St, Austin, TX 73301  \n...                   ...                                     ...  \n25112 2019-12-11 20:58:00  14 Madison St, San Francisco, CA 94016  \n25113 2019-12-01 12:01:00    549 Willow St, Los Angeles, CA 90001  \n25114 2019-12-09 06:43:00        273 Wilson St, Seattle, WA 98101  \n25115 2019-12-03 10:39:00          778 River St, Dallas, TX 75001  \n25116 2019-12-21 21:45:00  747 Chestnut St, Los Angeles, CA 90001  \n\n[185950 rows x 6 columns]",
      "text/html": "<div>\n<style scoped>\n    .dataframe tbody tr th:only-of-type {\n        vertical-align: middle;\n    }\n\n    .dataframe tbody tr th {\n        vertical-align: top;\n    }\n\n    .dataframe thead th {\n        text-align: right;\n    }\n</style>\n<table border=\"1\" class=\"dataframe\">\n  <thead>\n    <tr style=\"text-align: right;\">\n      <th></th>\n      <th>Order ID</th>\n      <th>Product</th>\n      <th>Quantity Ordered</th>\n      <th>Price Each</th>\n      <th>Order Date</th>\n      <th>Purchase Address</th>\n    </tr>\n  </thead>\n  <tbody>\n    <tr>\n      <th>0</th>\n      <td>141234</td>\n      <td>iPhone</td>\n      <td>1</td>\n      <td>700</td>\n      <td>2019-01-22 21:25:00</td>\n      <td>944 Walnut St, Boston, MA 02215</td>\n    </tr>\n    <tr>\n      <th>1</th>\n      <td>141235</td>\n      <td>Lightning Charging Cable</td>\n      <td>1</td>\n      <td>14.95</td>\n      <td>2019-01-28 14:15:00</td>\n      <td>185 Maple St, Portland, OR 97035</td>\n    </tr>\n    <tr>\n      <th>2</th>\n      <td>141236</td>\n      <td>Wired Headphones</td>\n      <td>2</td>\n      <td>11.99</td>\n      <td>2019-01-17 13:33:00</td>\n      <td>538 Adams St, San Francisco, CA 94016</td>\n    </tr>\n    <tr>\n      <th>3</th>\n      <td>141237</td>\n      <td>27in FHD Monitor</td>\n      <td>1</td>\n      <td>149.99</td>\n      <td>2019-01-05 20:33:00</td>\n      <td>738 10th St, Los Angeles, CA 90001</td>\n    </tr>\n    <tr>\n      <th>4</th>\n      <td>141238</td>\n      <td>Wired Headphones</td>\n      <td>1</td>\n      <td>11.99</td>\n      <td>2019-01-25 11:59:00</td>\n      <td>387 10th St, Austin, TX 73301</td>\n    </tr>\n    <tr>\n      <th>...</th>\n      <td>...</td>\n      <td>...</td>\n      <td>...</td>\n      <td>...</td>\n      <td>...</td>\n      <td>...</td>\n    </tr>\n    <tr>\n      <th>25112</th>\n      <td>319666</td>\n      <td>Lightning Charging Cable</td>\n      <td>1</td>\n      <td>14.95</td>\n      <td>2019-12-11 20:58:00</td>\n      <td>14 Madison St, San Francisco, CA 94016</td>\n    </tr>\n    <tr>\n      <th>25113</th>\n      <td>319667</td>\n      <td>AA Batteries (4-pack)</td>\n      <td>2</td>\n      <td>3.84</td>\n      <td>2019-12-01 12:01:00</td>\n      <td>549 Willow St, Los Angeles, CA 90001</td>\n    </tr>\n    <tr>\n      <th>25114</th>\n      <td>319668</td>\n      <td>Vareebadd Phone</td>\n      <td>1</td>\n      <td>400</td>\n      <td>2019-12-09 06:43:00</td>\n      <td>273 Wilson St, Seattle, WA 98101</td>\n    </tr>\n    <tr>\n      <th>25115</th>\n      <td>319669</td>\n      <td>Wired Headphones</td>\n      <td>1</td>\n      <td>11.99</td>\n      <td>2019-12-03 10:39:00</td>\n      <td>778 River St, Dallas, TX 75001</td>\n    </tr>\n    <tr>\n      <th>25116</th>\n      <td>319670</td>\n      <td>Bose SoundSport Headphones</td>\n      <td>1</td>\n      <td>99.99</td>\n      <td>2019-12-21 21:45:00</td>\n      <td>747 Chestnut St, Los Angeles, CA 90001</td>\n    </tr>\n  </tbody>\n</table>\n<p>185950 rows × 6 columns</p>\n</div>"
     },
     "execution_count": 36,
     "metadata": {},
     "output_type": "execute_result"
    }
   ],
   "source": [
    "temp = []\n",
    "for order in df['Order Date']:\n",
    "    # print(order)\n",
    "    if type(order) == float:\n",
    "        print(order)\n",
    "    r,l = order.split(' ')\n",
    "    temp.append(r[:6] + '20' + r[6:] + ' ' + l)\n",
    "df['Order Date'] = temp\n",
    "df['Order Date'] = pd.to_datetime(df['Order Date'], format=\"%m/%d/%Y %H:%M\")\n",
    "# Showing columns info\n",
    "df.info()\n",
    "df"
   ],
   "metadata": {
    "collapsed": false,
    "pycharm": {
     "name": "#%%\n"
    }
   }
  },
  {
   "cell_type": "markdown",
   "source": [
    "---\n",
    "## Cleaning by years"
   ],
   "metadata": {
    "collapsed": false,
    "pycharm": {
     "name": "#%% md\n"
    }
   }
  },
  {
   "cell_type": "code",
   "execution_count": 37,
   "outputs": [
    {
     "data": {
      "text/plain": "      Order ID                     Product Quantity Ordered Price Each  \\\n0       141234                      iPhone                1        700   \n1       141235    Lightning Charging Cable                1      14.95   \n2       141236            Wired Headphones                2      11.99   \n3       141237            27in FHD Monitor                1     149.99   \n4       141238            Wired Headphones                1      11.99   \n...        ...                         ...              ...        ...   \n25112   319666    Lightning Charging Cable                1      14.95   \n25113   319667       AA Batteries (4-pack)                2       3.84   \n25114   319668             Vareebadd Phone                1        400   \n25115   319669            Wired Headphones                1      11.99   \n25116   319670  Bose SoundSport Headphones                1      99.99   \n\n               Order Date                        Purchase Address  \n0     2019-01-22 21:25:00         944 Walnut St, Boston, MA 02215  \n1     2019-01-28 14:15:00        185 Maple St, Portland, OR 97035  \n2     2019-01-17 13:33:00   538 Adams St, San Francisco, CA 94016  \n3     2019-01-05 20:33:00      738 10th St, Los Angeles, CA 90001  \n4     2019-01-25 11:59:00           387 10th St, Austin, TX 73301  \n...                   ...                                     ...  \n25112 2019-12-11 20:58:00  14 Madison St, San Francisco, CA 94016  \n25113 2019-12-01 12:01:00    549 Willow St, Los Angeles, CA 90001  \n25114 2019-12-09 06:43:00        273 Wilson St, Seattle, WA 98101  \n25115 2019-12-03 10:39:00          778 River St, Dallas, TX 75001  \n25116 2019-12-21 21:45:00  747 Chestnut St, Los Angeles, CA 90001  \n\n[185916 rows x 6 columns]",
      "text/html": "<div>\n<style scoped>\n    .dataframe tbody tr th:only-of-type {\n        vertical-align: middle;\n    }\n\n    .dataframe tbody tr th {\n        vertical-align: top;\n    }\n\n    .dataframe thead th {\n        text-align: right;\n    }\n</style>\n<table border=\"1\" class=\"dataframe\">\n  <thead>\n    <tr style=\"text-align: right;\">\n      <th></th>\n      <th>Order ID</th>\n      <th>Product</th>\n      <th>Quantity Ordered</th>\n      <th>Price Each</th>\n      <th>Order Date</th>\n      <th>Purchase Address</th>\n    </tr>\n  </thead>\n  <tbody>\n    <tr>\n      <th>0</th>\n      <td>141234</td>\n      <td>iPhone</td>\n      <td>1</td>\n      <td>700</td>\n      <td>2019-01-22 21:25:00</td>\n      <td>944 Walnut St, Boston, MA 02215</td>\n    </tr>\n    <tr>\n      <th>1</th>\n      <td>141235</td>\n      <td>Lightning Charging Cable</td>\n      <td>1</td>\n      <td>14.95</td>\n      <td>2019-01-28 14:15:00</td>\n      <td>185 Maple St, Portland, OR 97035</td>\n    </tr>\n    <tr>\n      <th>2</th>\n      <td>141236</td>\n      <td>Wired Headphones</td>\n      <td>2</td>\n      <td>11.99</td>\n      <td>2019-01-17 13:33:00</td>\n      <td>538 Adams St, San Francisco, CA 94016</td>\n    </tr>\n    <tr>\n      <th>3</th>\n      <td>141237</td>\n      <td>27in FHD Monitor</td>\n      <td>1</td>\n      <td>149.99</td>\n      <td>2019-01-05 20:33:00</td>\n      <td>738 10th St, Los Angeles, CA 90001</td>\n    </tr>\n    <tr>\n      <th>4</th>\n      <td>141238</td>\n      <td>Wired Headphones</td>\n      <td>1</td>\n      <td>11.99</td>\n      <td>2019-01-25 11:59:00</td>\n      <td>387 10th St, Austin, TX 73301</td>\n    </tr>\n    <tr>\n      <th>...</th>\n      <td>...</td>\n      <td>...</td>\n      <td>...</td>\n      <td>...</td>\n      <td>...</td>\n      <td>...</td>\n    </tr>\n    <tr>\n      <th>25112</th>\n      <td>319666</td>\n      <td>Lightning Charging Cable</td>\n      <td>1</td>\n      <td>14.95</td>\n      <td>2019-12-11 20:58:00</td>\n      <td>14 Madison St, San Francisco, CA 94016</td>\n    </tr>\n    <tr>\n      <th>25113</th>\n      <td>319667</td>\n      <td>AA Batteries (4-pack)</td>\n      <td>2</td>\n      <td>3.84</td>\n      <td>2019-12-01 12:01:00</td>\n      <td>549 Willow St, Los Angeles, CA 90001</td>\n    </tr>\n    <tr>\n      <th>25114</th>\n      <td>319668</td>\n      <td>Vareebadd Phone</td>\n      <td>1</td>\n      <td>400</td>\n      <td>2019-12-09 06:43:00</td>\n      <td>273 Wilson St, Seattle, WA 98101</td>\n    </tr>\n    <tr>\n      <th>25115</th>\n      <td>319669</td>\n      <td>Wired Headphones</td>\n      <td>1</td>\n      <td>11.99</td>\n      <td>2019-12-03 10:39:00</td>\n      <td>778 River St, Dallas, TX 75001</td>\n    </tr>\n    <tr>\n      <th>25116</th>\n      <td>319670</td>\n      <td>Bose SoundSport Headphones</td>\n      <td>1</td>\n      <td>99.99</td>\n      <td>2019-12-21 21:45:00</td>\n      <td>747 Chestnut St, Los Angeles, CA 90001</td>\n    </tr>\n  </tbody>\n</table>\n<p>185916 rows × 6 columns</p>\n</div>"
     },
     "execution_count": 37,
     "metadata": {},
     "output_type": "execute_result"
    }
   ],
   "source": [
    "df = df[pd.DatetimeIndex(df['Order Date']).year == 2019]\n",
    "df"
   ],
   "metadata": {
    "collapsed": false,
    "pycharm": {
     "name": "#%%\n"
    }
   }
  },
  {
   "cell_type": "markdown",
   "source": [
    "---\n",
    "## Cast other columns to numeric types"
   ],
   "metadata": {
    "collapsed": false,
    "pycharm": {
     "name": "#%% md\n"
    }
   }
  },
  {
   "cell_type": "code",
   "execution_count": 38,
   "outputs": [
    {
     "name": "stdout",
     "output_type": "stream",
     "text": [
      "<class 'pandas.core.frame.DataFrame'>\n",
      "Int64Index: 185916 entries, 0 to 25116\n",
      "Data columns (total 6 columns):\n",
      " #   Column            Non-Null Count   Dtype         \n",
      "---  ------            --------------   -----         \n",
      " 0   Order ID          185916 non-null  int64         \n",
      " 1   Product           185916 non-null  object        \n",
      " 2   Quantity Ordered  185916 non-null  int64         \n",
      " 3   Price Each        185916 non-null  float64       \n",
      " 4   Order Date        185916 non-null  datetime64[ns]\n",
      " 5   Purchase Address  185916 non-null  object        \n",
      "dtypes: datetime64[ns](1), float64(1), int64(2), object(2)\n",
      "memory usage: 9.9+ MB\n"
     ]
    }
   ],
   "source": [
    "# df['Quantity Ordered'] = df['Quantity Ordered'].astype(np.int8)\n",
    "# df['Order ID'] = df['Order ID'].astype(np.int64)\n",
    "# df['Price Each'] = df['Price Each'].astype(np.float16)\n",
    "df['Quantity Ordered'] = pd.to_numeric(df['Quantity Ordered'])\n",
    "df['Order ID'] = pd.to_numeric(df['Order ID'])\n",
    "df['Price Each'] = pd.to_numeric(df['Price Each'])\n",
    "df.info()"
   ],
   "metadata": {
    "collapsed": false,
    "pycharm": {
     "name": "#%%\n"
    }
   }
  },
  {
   "cell_type": "markdown",
   "source": [
    "---\n",
    "## Check are there null values"
   ],
   "metadata": {
    "collapsed": false,
    "pycharm": {
     "name": "#%% md\n"
    }
   }
  },
  {
   "cell_type": "code",
   "execution_count": 39,
   "outputs": [
    {
     "data": {
      "text/plain": "Order ID            0\nProduct             0\nQuantity Ordered    0\nPrice Each          0\nOrder Date          0\nPurchase Address    0\ndtype: int64"
     },
     "execution_count": 39,
     "metadata": {},
     "output_type": "execute_result"
    }
   ],
   "source": [
    "missing_values_count = df.isnull().sum()\n",
    "missing_values_count"
   ],
   "metadata": {
    "collapsed": false,
    "pycharm": {
     "name": "#%%\n"
    }
   }
  },
  {
   "cell_type": "markdown",
   "source": [
    "\n",
    "## Data preparation has been done.\n",
    "---\n"
   ],
   "metadata": {
    "collapsed": false,
    "pycharm": {
     "name": "#%% md\n"
    }
   }
  },
  {
   "cell_type": "markdown",
   "source": [
    "---\n",
    "# Exercises\n",
    "---"
   ],
   "metadata": {
    "collapsed": false,
    "pycharm": {
     "name": "#%% md\n"
    }
   }
  },
  {
   "cell_type": "markdown",
   "source": [
    "---\n",
    "## Exercise 1. Prepare a statement showing the totals of the sales amounts for each recorded day in 2019.\n",
    "---"
   ],
   "metadata": {
    "collapsed": false,
    "pycharm": {
     "name": "#%% md\n"
    }
   }
  },
  {
   "cell_type": "code",
   "execution_count": 40,
   "outputs": [
    {
     "data": {
      "text/plain": "     Order Date      Total\n0    2019-01-01  65681.940\n1    2019-01-02  70813.200\n2    2019-01-03  47046.200\n3    2019-01-04  62012.210\n4    2019-01-05  46524.630\n..          ...        ...\n360  2019-12-27 126628.050\n361  2019-12-28 134015.500\n362  2019-12-29 156024.620\n363  2019-12-30 152319.810\n364  2019-12-31 131454.300\n\n[365 rows x 2 columns]",
      "text/html": "<div>\n<style scoped>\n    .dataframe tbody tr th:only-of-type {\n        vertical-align: middle;\n    }\n\n    .dataframe tbody tr th {\n        vertical-align: top;\n    }\n\n    .dataframe thead th {\n        text-align: right;\n    }\n</style>\n<table border=\"1\" class=\"dataframe\">\n  <thead>\n    <tr style=\"text-align: right;\">\n      <th></th>\n      <th>Order Date</th>\n      <th>Total</th>\n    </tr>\n  </thead>\n  <tbody>\n    <tr>\n      <th>0</th>\n      <td>2019-01-01</td>\n      <td>65681.940</td>\n    </tr>\n    <tr>\n      <th>1</th>\n      <td>2019-01-02</td>\n      <td>70813.200</td>\n    </tr>\n    <tr>\n      <th>2</th>\n      <td>2019-01-03</td>\n      <td>47046.200</td>\n    </tr>\n    <tr>\n      <th>3</th>\n      <td>2019-01-04</td>\n      <td>62012.210</td>\n    </tr>\n    <tr>\n      <th>4</th>\n      <td>2019-01-05</td>\n      <td>46524.630</td>\n    </tr>\n    <tr>\n      <th>...</th>\n      <td>...</td>\n      <td>...</td>\n    </tr>\n    <tr>\n      <th>360</th>\n      <td>2019-12-27</td>\n      <td>126628.050</td>\n    </tr>\n    <tr>\n      <th>361</th>\n      <td>2019-12-28</td>\n      <td>134015.500</td>\n    </tr>\n    <tr>\n      <th>362</th>\n      <td>2019-12-29</td>\n      <td>156024.620</td>\n    </tr>\n    <tr>\n      <th>363</th>\n      <td>2019-12-30</td>\n      <td>152319.810</td>\n    </tr>\n    <tr>\n      <th>364</th>\n      <td>2019-12-31</td>\n      <td>131454.300</td>\n    </tr>\n  </tbody>\n</table>\n<p>365 rows × 2 columns</p>\n</div>"
     },
     "execution_count": 40,
     "metadata": {},
     "output_type": "execute_result"
    }
   ],
   "source": [
    "result = df[['Product', 'Quantity Ordered', 'Price Each', 'Order Date']].groupby([df['Order Date'].dt.date, 'Product', 'Price Each']).sum().reset_index()\n",
    "result['Multiplication'] = result['Quantity Ordered'] * result['Price Each']\n",
    "# result\n",
    "pd.options.display.float_format = '{:.3f}'.format\n",
    "total_sum = result[['Order Date', 'Multiplication']].groupby('Order Date').sum().rename(columns={'Multiplication':'Total'}).reset_index()\n",
    "total_sum\n",
    "# for_plot = total_sum.copy()\n",
    "# for_plot['Month'] = pd.DatetimeIndex(total_sum['Order Date']).month\n",
    "# for_plot['Day'] = pd.DatetimeIndex(total_sum['Order Date']).day\n",
    "# a = for_plot[['Month', 'Day', 'Total']]\n",
    "# for_plot.groupby('Order Date')"
   ],
   "metadata": {
    "collapsed": false,
    "pycharm": {
     "name": "#%%\n"
    }
   }
  },
  {
   "cell_type": "markdown",
   "source": [
    "### Visualization (heatmap)"
   ],
   "metadata": {
    "collapsed": false,
    "pycharm": {
     "name": "#%% md\n"
    }
   }
  },
  {
   "cell_type": "code",
   "execution_count": 41,
   "outputs": [],
   "source": [
    "# ax = sns.heatmap(for_plot[['Month', 'Day', 'Total']].unstack())\n",
    "# month = pd.DatetimeIndex(df['Order Date']).month.unique()\n",
    "# month\n"
   ],
   "metadata": {
    "collapsed": false,
    "pycharm": {
     "name": "#%%\n"
    }
   }
  },
  {
   "cell_type": "markdown",
   "source": [
    "---\n",
    "## Exercise 2. Prepare a list of the 3 products that were sold the most, their total sum of sales amounts and the number of items sold for each quarter of 2019.\n",
    "---"
   ],
   "metadata": {
    "collapsed": false,
    "pycharm": {
     "name": "#%% md\n"
    }
   }
  },
  {
   "cell_type": "code",
   "execution_count": 89,
   "outputs": [
    {
     "data": {
      "text/plain": "    Quarter                 Product  Price Each  Quantity Ordered     Total\n0         1   AA Batteries (4-pack)       3.840              5375 20640.000\n1         1  AAA Batteries (4-pack)       2.990              6046 18077.540\n2         1    USB-C Charging Cable      11.950              4881 58327.950\n3         2   AA Batteries (4-pack)       3.840              7301 28035.840\n4         2  AAA Batteries (4-pack)       2.990              8028 24003.720\n5         2    USB-C Charging Cable      11.950              6012 71843.400\n6         3   AA Batteries (4-pack)       3.840              5670 21772.800\n7         3  AAA Batteries (4-pack)       2.990              6309 18863.910\n8         3    USB-C Charging Cable      11.950              4905 58614.750\n9         4   AA Batteries (4-pack)       3.840              9289 35669.760\n10        4  AAA Batteries (4-pack)       2.990             10629 31780.710\n11        4    USB-C Charging Cable      11.950              8173 97667.350",
      "text/html": "<div>\n<style scoped>\n    .dataframe tbody tr th:only-of-type {\n        vertical-align: middle;\n    }\n\n    .dataframe tbody tr th {\n        vertical-align: top;\n    }\n\n    .dataframe thead th {\n        text-align: right;\n    }\n</style>\n<table border=\"1\" class=\"dataframe\">\n  <thead>\n    <tr style=\"text-align: right;\">\n      <th></th>\n      <th>Quarter</th>\n      <th>Product</th>\n      <th>Price Each</th>\n      <th>Quantity Ordered</th>\n      <th>Total</th>\n    </tr>\n  </thead>\n  <tbody>\n    <tr>\n      <th>0</th>\n      <td>1</td>\n      <td>AA Batteries (4-pack)</td>\n      <td>3.840</td>\n      <td>5375</td>\n      <td>20640.000</td>\n    </tr>\n    <tr>\n      <th>1</th>\n      <td>1</td>\n      <td>AAA Batteries (4-pack)</td>\n      <td>2.990</td>\n      <td>6046</td>\n      <td>18077.540</td>\n    </tr>\n    <tr>\n      <th>2</th>\n      <td>1</td>\n      <td>USB-C Charging Cable</td>\n      <td>11.950</td>\n      <td>4881</td>\n      <td>58327.950</td>\n    </tr>\n    <tr>\n      <th>3</th>\n      <td>2</td>\n      <td>AA Batteries (4-pack)</td>\n      <td>3.840</td>\n      <td>7301</td>\n      <td>28035.840</td>\n    </tr>\n    <tr>\n      <th>4</th>\n      <td>2</td>\n      <td>AAA Batteries (4-pack)</td>\n      <td>2.990</td>\n      <td>8028</td>\n      <td>24003.720</td>\n    </tr>\n    <tr>\n      <th>5</th>\n      <td>2</td>\n      <td>USB-C Charging Cable</td>\n      <td>11.950</td>\n      <td>6012</td>\n      <td>71843.400</td>\n    </tr>\n    <tr>\n      <th>6</th>\n      <td>3</td>\n      <td>AA Batteries (4-pack)</td>\n      <td>3.840</td>\n      <td>5670</td>\n      <td>21772.800</td>\n    </tr>\n    <tr>\n      <th>7</th>\n      <td>3</td>\n      <td>AAA Batteries (4-pack)</td>\n      <td>2.990</td>\n      <td>6309</td>\n      <td>18863.910</td>\n    </tr>\n    <tr>\n      <th>8</th>\n      <td>3</td>\n      <td>USB-C Charging Cable</td>\n      <td>11.950</td>\n      <td>4905</td>\n      <td>58614.750</td>\n    </tr>\n    <tr>\n      <th>9</th>\n      <td>4</td>\n      <td>AA Batteries (4-pack)</td>\n      <td>3.840</td>\n      <td>9289</td>\n      <td>35669.760</td>\n    </tr>\n    <tr>\n      <th>10</th>\n      <td>4</td>\n      <td>AAA Batteries (4-pack)</td>\n      <td>2.990</td>\n      <td>10629</td>\n      <td>31780.710</td>\n    </tr>\n    <tr>\n      <th>11</th>\n      <td>4</td>\n      <td>USB-C Charging Cable</td>\n      <td>11.950</td>\n      <td>8173</td>\n      <td>97667.350</td>\n    </tr>\n  </tbody>\n</table>\n</div>"
     },
     "execution_count": 89,
     "metadata": {},
     "output_type": "execute_result"
    }
   ],
   "source": [
    "top = df[['Product', 'Quantity Ordered', 'Price Each']].groupby(['Product', 'Price Each']).sum().reset_index()\n",
    "top.sort_values('Quantity Ordered', ascending=False).head(3)\n",
    "\n",
    "temp = df[df['Product'].isin(top.sort_values('Quantity Ordered', ascending=False).head(3)['Product'])]\n",
    "result = temp[['Product', 'Quantity Ordered', 'Price Each', 'Order Date']].groupby([temp['Order Date'].dt.quarter, 'Product', 'Price Each']).sum().reset_index().rename(columns={'Order Date':'Quarter'})\n",
    "result['Total'] = result['Quantity Ordered'] * result['Price Each']\n",
    "result\n"
   ],
   "metadata": {
    "collapsed": false,
    "pycharm": {
     "name": "#%%\n"
    }
   }
  },
  {
   "cell_type": "markdown",
   "source": [
    "---\n",
    "## Exercise 3. Prepare a statement showing the 5 states that are most often repeated in order addresses and their share in the number of all orders in 2019.\n",
    "---\n"
   ],
   "metadata": {
    "collapsed": false,
    "pycharm": {
     "name": "#%% md\n"
    }
   }
  },
  {
   "cell_type": "code",
   "execution_count": 79,
   "outputs": [
    {
     "data": {
      "text/plain": "  index  State  Percentage\n0    CA  74324      39.977\n1    NY  24866      13.375\n2    TX  24721      13.297\n3    MA  19930      10.720\n4    GA  14881       8.004\n5    WA  14731       7.923\n6    OR  10008       5.383\n7    ME   2455       1.320",
      "text/html": "<div>\n<style scoped>\n    .dataframe tbody tr th:only-of-type {\n        vertical-align: middle;\n    }\n\n    .dataframe tbody tr th {\n        vertical-align: top;\n    }\n\n    .dataframe thead th {\n        text-align: right;\n    }\n</style>\n<table border=\"1\" class=\"dataframe\">\n  <thead>\n    <tr style=\"text-align: right;\">\n      <th></th>\n      <th>index</th>\n      <th>State</th>\n      <th>Percentage</th>\n    </tr>\n  </thead>\n  <tbody>\n    <tr>\n      <th>0</th>\n      <td>CA</td>\n      <td>74324</td>\n      <td>39.977</td>\n    </tr>\n    <tr>\n      <th>1</th>\n      <td>NY</td>\n      <td>24866</td>\n      <td>13.375</td>\n    </tr>\n    <tr>\n      <th>2</th>\n      <td>TX</td>\n      <td>24721</td>\n      <td>13.297</td>\n    </tr>\n    <tr>\n      <th>3</th>\n      <td>MA</td>\n      <td>19930</td>\n      <td>10.720</td>\n    </tr>\n    <tr>\n      <th>4</th>\n      <td>GA</td>\n      <td>14881</td>\n      <td>8.004</td>\n    </tr>\n    <tr>\n      <th>5</th>\n      <td>WA</td>\n      <td>14731</td>\n      <td>7.923</td>\n    </tr>\n    <tr>\n      <th>6</th>\n      <td>OR</td>\n      <td>10008</td>\n      <td>5.383</td>\n    </tr>\n    <tr>\n      <th>7</th>\n      <td>ME</td>\n      <td>2455</td>\n      <td>1.320</td>\n    </tr>\n  </tbody>\n</table>\n</div>"
     },
     "execution_count": 79,
     "metadata": {},
     "output_type": "execute_result"
    }
   ],
   "source": [
    "temp = df.copy()\n",
    "# temp\n",
    "temp['State'] = temp['Purchase Address'].str[-8:-6]\n",
    "result = temp['State'].value_counts().reset_index()\n",
    "total = result['State'].sum()\n",
    "result['Percentage'] = result['State'] / total * 100\n",
    "result\n"
   ],
   "metadata": {
    "collapsed": false,
    "pycharm": {
     "name": "#%%\n"
    }
   }
  }
 ],
 "metadata": {
  "kernelspec": {
   "display_name": "Python 3",
   "language": "python",
   "name": "python3"
  },
  "language_info": {
   "codemirror_mode": {
    "name": "ipython",
    "version": 2
   },
   "file_extension": ".py",
   "mimetype": "text/x-python",
   "name": "python",
   "nbconvert_exporter": "python",
   "pygments_lexer": "ipython2",
   "version": "2.7.6"
  }
 },
 "nbformat": 4,
 "nbformat_minor": 0
}